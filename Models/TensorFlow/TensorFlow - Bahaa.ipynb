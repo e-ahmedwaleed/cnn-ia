{
  "nbformat": 4,
  "nbformat_minor": 0,
  "metadata": {
    "colab": {
      "name": "Implementing a CNN in TensorFlow.ipynb",
      "provenance": []
    },
    "kernelspec": {
      "name": "python3",
      "display_name": "Python 3"
    },
    "language_info": {
      "name": "python"
    }
  },
  "cells": [
    {
      "cell_type": "markdown",
      "metadata": {
        "id": "yGHx0iaRipIT"
      },
      "source": [
        "Step 1: Import required libraries"
      ]
    },
    {
      "cell_type": "code",
      "metadata": {
        "id": "qwDtkep7ipgS"
      },
      "source": [
        "# importing the libraries\n",
        "import tensorflow as tf\n",
        "\n",
        "from tensorflow.keras import datasets, layers, models\n",
        "from tensorflow.keras.utils import to_categorical\n",
        "import matplotlib.pyplot as plt"
      ],
      "execution_count": 1,
      "outputs": []
    },
    {
      "cell_type": "code",
      "metadata": {
        "colab": {
          "base_uri": "https://localhost:8080/"
        },
        "id": "9orjjN4aiwek",
        "outputId": "3f3051e8-9312-4b81-f400-02c47c531354"
      },
      "source": [
        "# version of tensorflow\n",
        "print(tf.__version__)"
      ],
      "execution_count": 2,
      "outputs": [
        {
          "output_type": "stream",
          "name": "stdout",
          "text": [
            "2.7.0\n"
          ]
        }
      ]
    },
    {
      "cell_type": "markdown",
      "metadata": {
        "id": "bjn__QcWi4aP"
      },
      "source": [
        "Step 2: Load and prepair the dataset"
      ]
    },
    {
      "cell_type": "code",
      "metadata": {
        "colab": {
          "base_uri": "https://localhost:8080/"
        },
        "id": "s-_gyjMhizpk",
        "outputId": "2c080055-c6ee-4e6e-ba25-b4c3c98d9c20"
      },
      "source": [
        "(train_images, train_labels), (test_images, test_labels) = datasets.mnist.load_data(path='mnist.npz')\n",
        "# Normalize pixel values to be between 0 and 1\n",
        "train_images, test_images = train_images / 255.0, test_images / 255.0"
      ],
      "execution_count": 3,
      "outputs": [
        {
          "output_type": "stream",
          "name": "stdout",
          "text": [
            "Downloading data from https://storage.googleapis.com/tensorflow/tf-keras-datasets/mnist.npz\n",
            "11493376/11490434 [==============================] - 0s 0us/step\n",
            "11501568/11490434 [==============================] - 0s 0us/step\n"
          ]
        }
      ]
    },
    {
      "cell_type": "code",
      "metadata": {
        "colab": {
          "base_uri": "https://localhost:8080/",
          "height": 578
        },
        "id": "0jD_wbvmi6du",
        "outputId": "14e2462b-237f-455c-c66f-6cdbca3854d4"
      },
      "source": [
        "# visualizing a few images\n",
        "plt.figure(figsize=(10,10))\n",
        "for i in range(9):\n",
        "    plt.subplot(3,3,i+1)\n",
        "    plt.xticks([])\n",
        "    plt.yticks([])\n",
        "    plt.grid(False)\n",
        "    plt.imshow(train_images[i], cmap='gray')\n",
        "plt.show()"
      ],
      "execution_count": 4,
      "outputs": [
        {
          "output_type": "display_data",
          "data": {
            "image/png": "[encoded data removed]",
            "text/plain": [
              "<Figure size 720x720 with 9 Axes>"
            ]
          },
          "metadata": {}
        }
      ]
    },
    {
      "cell_type": "code",
      "metadata": {
        "colab": {
          "base_uri": "https://localhost:8080/"
        },
        "id": "FR4hwSehjCST",
        "outputId": "96d7b581-c0bb-4e3c-85f6-51ee02a943cd"
      },
      "source": [
        "# shape of the training and test set\n",
        "(train_images.shape, train_labels.shape), (test_images.shape, test_labels.shape)"
      ],
      "execution_count": 5,
      "outputs": [
        {
          "output_type": "execute_result",
          "data": {
            "text/plain": [
              "(((60000, 28, 28), (60000,)), ((10000, 28, 28), (10000,)))"
            ]
          },
          "metadata": {},
          "execution_count": 5
        }
      ]
    },
    {
      "cell_type": "code",
      "metadata": {
        "id": "h6sGZtWcjI4D"
      },
      "source": [
        "# reshaping the images\n",
        "train_images = train_images.reshape((60000, 28, 28, 1))\n",
        "test_images = test_images.reshape((10000, 28, 28, 1))\n",
        "\n",
        "# one hot encoding the target variable\n",
        "train_labels = to_categorical(train_labels)\n",
        "test_labels = to_categorical(test_labels)"
      ],
      "execution_count": 6,
      "outputs": []
    },
    {
      "cell_type": "markdown",
      "metadata": {
        "id": "orRHgNjPjSih"
      },
      "source": [
        "<h2>Step 3: Build/Train the model</h2>"
      ]
    },
    {
      "cell_type": "code",
      "metadata": {
        "id": "_R7PR73kjMKS"
      },
      "source": [
        "# defining the model architecture\n",
        "model = models.Sequential()\n",
        "model.add(layers.Conv2D(4, (3, 3), activation='relu', input_shape=(28, 28, 1)))\n",
        "model.add(layers.MaxPooling2D((2, 2), strides=2))\n",
        "model.add(layers.Conv2D(4, (3, 3), activation='relu'))\n",
        "model.add(layers.MaxPooling2D((2, 2), strides=2))\n",
        "model.add(layers.Flatten())\n",
        "model.add(layers.Dense(10, activation='softmax'))"
      ],
      "execution_count": 7,
      "outputs": []
    },
    {
      "cell_type": "code",
      "metadata": {
        "colab": {
          "base_uri": "https://localhost:8080/"
        },
        "id": "rHR5SFL_jU9Z",
        "outputId": "278b3164-5a23-48f8-97af-e2341651ca3f"
      },
      "source": [
        "# summary of the model\n",
        "model.summary()"
      ],
      "execution_count": 8,
      "outputs": [
        {
          "output_type": "stream",
          "name": "stdout",
          "text": [
            "Model: \"sequential\"\n",
            "_________________________________________________________________\n",
            " Layer (type)                Output Shape              Param #   \n",
            "=================================================================\n",
            " conv2d (Conv2D)             (None, 26, 26, 4)         40        \n",
            "                                                                 \n",
            " max_pooling2d (MaxPooling2D  (None, 13, 13, 4)        0         \n",
            " )                                                               \n",
            "                                                                 \n",
            " conv2d_1 (Conv2D)           (None, 11, 11, 4)         148       \n",
            "                                                                 \n",
            " max_pooling2d_1 (MaxPooling  (None, 5, 5, 4)          0         \n",
            " 2D)                                                             \n",
            "                                                                 \n",
            " flatten (Flatten)           (None, 100)               0         \n",
            "                                                                 \n",
            " dense (Dense)               (None, 10)                1010      \n",
            "                                                                 \n",
            "=================================================================\n",
            "Total params: 1,198\n",
            "Trainable params: 1,198\n",
            "Non-trainable params: 0\n",
            "_________________________________________________________________\n"
          ]
        }
      ]
    },
    {
      "cell_type": "code",
      "metadata": {
        "id": "oJ4wduYLjYFc"
      },
      "source": [
        "# compiling the model\n",
        "model.compile(optimizer='adam',\n",
        "              loss='categorical_crossentropy',\n",
        "              metrics=['accuracy'])"
      ],
      "execution_count": 9,
      "outputs": []
    },
    {
      "cell_type": "markdown",
      "metadata": {
        "id": "AzkkFCCWjtLg"
      },
      "source": [
        "Train the model for 10 epochs."
      ]
    },
    {
      "cell_type": "code",
      "metadata": {
        "colab": {
          "base_uri": "https://localhost:8080/"
        },
        "id": "zQQB-Qszjed0",
        "outputId": "d4bec569-4936-4cb9-8314-5a08a7da17fc"
      },
      "source": [
        "# training the model\n",
        "history = model.fit(train_images, train_labels, epochs=10, validation_data=(test_images, test_labels))"
      ],
      "execution_count": 10,
      "outputs": [
        {
          "output_type": "stream",
          "name": "stdout",
          "text": [
            "Epoch 1/10\n",
            "1875/1875 [==============================] - 23s 12ms/step - loss: 0.5667 - accuracy: 0.8261 - val_loss: 0.2894 - val_accuracy: 0.9158\n",
            "Epoch 2/10\n",
            "1875/1875 [==============================] - 22s 12ms/step - loss: 0.2544 - accuracy: 0.9229 - val_loss: 0.1970 - val_accuracy: 0.9406\n",
            "Epoch 3/10\n",
            "1875/1875 [==============================] - 22s 12ms/step - loss: 0.1844 - accuracy: 0.9446 - val_loss: 0.1457 - val_accuracy: 0.9563\n",
            "Epoch 4/10\n",
            "1875/1875 [==============================] - 22s 12ms/step - loss: 0.1514 - accuracy: 0.9542 - val_loss: 0.1189 - val_accuracy: 0.9648\n",
            "Epoch 5/10\n",
            "1875/1875 [==============================] - 22s 12ms/step - loss: 0.1315 - accuracy: 0.9601 - val_loss: 0.1156 - val_accuracy: 0.9634\n",
            "Epoch 6/10\n",
            "1875/1875 [==============================] - 22s 12ms/step - loss: 0.1180 - accuracy: 0.9643 - val_loss: 0.1068 - val_accuracy: 0.9679\n",
            "Epoch 7/10\n",
            "1875/1875 [==============================] - 22s 12ms/step - loss: 0.1072 - accuracy: 0.9673 - val_loss: 0.0952 - val_accuracy: 0.9714\n",
            "Epoch 8/10\n",
            "1875/1875 [==============================] - 22s 12ms/step - loss: 0.0990 - accuracy: 0.9701 - val_loss: 0.0831 - val_accuracy: 0.9744\n",
            "Epoch 9/10\n",
            "1875/1875 [==============================] - 22s 12ms/step - loss: 0.0937 - accuracy: 0.9717 - val_loss: 0.0806 - val_accuracy: 0.9753\n",
            "Epoch 10/10\n",
            "1875/1875 [==============================] - 22s 12ms/step - loss: 0.0882 - accuracy: 0.9728 - val_loss: 0.0779 - val_accuracy: 0.9763\n"
          ]
        }
      ]
    },
    {
      "cell_type": "markdown",
      "metadata": {
        "id": "dEA5P4eYkTau"
      },
      "source": [
        "<h2>Step 5: Link your recourses</h2>\n"
      ]
    },
    {
      "cell_type": "markdown",
      "metadata": {
        "id": "ssBjG2lMkYCM"
      },
      "source": [
        "[https://www.analyticsvidhya.com](https://www.analyticsvidhya.com/blog/2020/07/how-to-train-an-image-classification-model-in-pytorch-and-tensorflow/)"
      ]
    }
  ]
}